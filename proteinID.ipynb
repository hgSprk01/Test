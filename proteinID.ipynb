{
 "cells": [
  {
   "cell_type": "code",
   "execution_count": 3,
   "id": "51f9b57f-1460-463c-a2f8-40bf1479dbad",
   "metadata": {},
   "outputs": [
    {
     "data": {
      "text/plain": [
       "'/home/hogune/Documents'"
      ]
     },
     "execution_count": 3,
     "metadata": {},
     "output_type": "execute_result"
    }
   ],
   "source": [
    "import pandas as pd\n",
    "from pathlib import Path\n",
    "import os\n",
    "os.getcwd()"
   ]
  },
  {
   "cell_type": "code",
   "execution_count": 5,
   "id": "219f9a2a-93d7-4b30-a1f9-847e78ead271",
   "metadata": {},
   "outputs": [],
   "source": [
    "base_path = Path(\"../Downloads/\")  # Change to your actual file path\n",
    "files_info = {\n",
    "    \"Target_list\": {\"filename\": \"Target_list.txt\", \"column\": \"Acession\"},\n",
    "    \"ExploreHT\": {\"filename\": \"O_ExploreHT.txt\", \"column\": \"Accession\"},\n",
    "    \"Reveal\": {\"filename\": \"O_Reveal.txt\", \"column\": \"Uniprot\"},\n",
    "    \"T48panel\": {\"filename\": \"O_T48panel.txt\", \"column\": \"Protein ID\"},\n",
    "    \"T96panel\": {\"filename\": \"O_T96Panel.txt\", \"column\": \"Protein ID\"},\n",
    "}"
   ]
  },
  {
   "cell_type": "code",
   "execution_count": 6,
   "id": "9bda604c-a812-4f3f-bd26-f17a3e21a057",
   "metadata": {},
   "outputs": [],
   "source": [
    "# Load data\n",
    "dataframes = {\n",
    "    name: pd.read_csv(base_path / info[\"filename\"], sep=\"\\t\")\n",
    "    for name, info in files_info.items()\n",
    "}"
   ]
  },
  {
   "cell_type": "code",
   "execution_count": 8,
   "id": "d47b03b1-d6c4-4c80-8d17-490dd4922e63",
   "metadata": {},
   "outputs": [],
   "source": [
    "# Extract protein sets\n",
    "#protein_sets = {\n",
    "#    name: set(df[info[\"column\"]].dropna().astype(str).str.strip())\n",
    "#    for name, (df, info) in zip(dataframes.keys(), [(df, files_info[k]) for k, df in dataframes.items()])\n",
    "#}"
   ]
  },
  {
   "cell_type": "code",
   "execution_count": 17,
   "id": "29af3e31-c17a-4f7a-9ccc-22fb2f65a617",
   "metadata": {},
   "outputs": [],
   "source": [
    "# Compute overlaps\n",
    "#target_ids = protein_sets[\"Target_list\"]\n",
    "#overlap_results = {\n",
    "#    name: target_ids.intersection(protein_sets[name])\n",
    "#    for name in protein_sets if name != \"Target_list\"\n",
    "#}\n",
    "target_df = dataframes[\"Target_list\"]\n",
    "target_id_col = files_info[\"Target_list\"][\"column\"]\n",
    "target_gene_map = dict(zip(target_df[target_id_col], target_df[\"gene name\"]))\n",
    "target_ids = set(target_gene_map.keys())\n"
   ]
  },
  {
   "cell_type": "code",
   "execution_count": 18,
   "id": "d5ac840d-ac10-448d-801e-f01b3d21b7ec",
   "metadata": {},
   "outputs": [],
   "source": [
    "# Save overlaps to text files\n",
    "output_path = base_path / \"overlap_outputs\"\n",
    "output_path.mkdir(exist_ok=True)\n",
    "summary = []\n",
    "\n",
    "for panel_name, info in files_info.items():\n",
    "    if panel_name == \"Target_list\":\n",
    "        continue\n",
    "    df = dataframes[panel_name]\n",
    "    ids_in_panel = set(df[info[\"column\"]].astype(str).str.strip())\n",
    "    overlap = target_ids.intersection(ids_in_panel)\n",
    "\n",
    "    # Create DataFrame of overlaps with gene names\n",
    "    overlap_df = pd.DataFrame({\n",
    "        \"Accession\": sorted(overlap),\n",
    "        \"Gene name\": [target_gene_map[pid] for pid in sorted(overlap)]\n",
    "    })\n",
    "\n",
    "    # Save to file\n",
    "    output_file = output_path / f\"Overlap_Target_vs_{panel_name}.txt\"\n",
    "    overlap_df.to_csv(output_file, sep=\"\\t\", index=False)\n",
    "\n",
    "    # Record summary\n",
    "    summary.append({\n",
    "        \"Panel\": panel_name,\n",
    "        \"Overlap Count\": len(overlap)\n",
    "    })\n",
    "\n",
    "#for panel, overlap in overlap_results.items():\n",
    "#    filename = output_path / f\"Overlap_Target_vs_{panel}.txt\"\n",
    "#    #with open(filename, \"w\") as f:\n",
    "#    #    f.write(\"\\n\".join(sorted(overlap)))\n"
   ]
  },
  {
   "cell_type": "code",
   "execution_count": 13,
   "id": "4ea9e92a-5aa1-4841-9801-5c5fa85d4485",
   "metadata": {},
   "outputs": [],
   "source": [
    "# Save overlaps to text files\n",
    "#output_path = base_path / \"overlap_outputs\"\n",
    "#output_path.mkdir(exist_ok=True)\n",
    "\n",
    "#for panel, overlap in overlap_results.items():\n",
    "#    filename = output_path / f\"Overlap_Target_vs_{panel}.txt\"\n",
    "#    with open(filename, \"w\") as f:\n",
    "#        f.write(\"\\n\".join(sorted(overlap)))\n"
   ]
  },
  {
   "cell_type": "code",
   "execution_count": 19,
   "id": "fb913f20-ab01-4a11-aab3-0b77bd343b52",
   "metadata": {},
   "outputs": [
    {
     "data": {
      "text/html": [
       "<div>\n",
       "<style scoped>\n",
       "    .dataframe tbody tr th:only-of-type {\n",
       "        vertical-align: middle;\n",
       "    }\n",
       "\n",
       "    .dataframe tbody tr th {\n",
       "        vertical-align: top;\n",
       "    }\n",
       "\n",
       "    .dataframe thead th {\n",
       "        text-align: right;\n",
       "    }\n",
       "</style>\n",
       "<table border=\"1\" class=\"dataframe\">\n",
       "  <thead>\n",
       "    <tr style=\"text-align: right;\">\n",
       "      <th></th>\n",
       "      <th>Panel</th>\n",
       "      <th>Overlap Count</th>\n",
       "    </tr>\n",
       "  </thead>\n",
       "  <tbody>\n",
       "    <tr>\n",
       "      <th>0</th>\n",
       "      <td>ExploreHT</td>\n",
       "      <td>461</td>\n",
       "    </tr>\n",
       "    <tr>\n",
       "      <th>1</th>\n",
       "      <td>Reveal</td>\n",
       "      <td>150</td>\n",
       "    </tr>\n",
       "    <tr>\n",
       "      <th>2</th>\n",
       "      <td>T48panel</td>\n",
       "      <td>59</td>\n",
       "    </tr>\n",
       "    <tr>\n",
       "      <th>3</th>\n",
       "      <td>T96panel</td>\n",
       "      <td>253</td>\n",
       "    </tr>\n",
       "  </tbody>\n",
       "</table>\n",
       "</div>"
      ],
      "text/plain": [
       "       Panel  Overlap Count\n",
       "0  ExploreHT            461\n",
       "1     Reveal            150\n",
       "2   T48panel             59\n",
       "3   T96panel            253"
      ]
     },
     "execution_count": 19,
     "metadata": {},
     "output_type": "execute_result"
    }
   ],
   "source": [
    "# Create summary table\n",
    "#summary_df = pd.DataFrame({\n",
    "#    \"Panel\": list(overlap_results.keys()),\n",
    "#    \"Overlap Count\": [len(overlap) for overlap in overlap_results.values()]\n",
    "#})\n",
    "summary_df = pd.DataFrame(summary)\n",
    "summary_df.to_csv(output_path / \"Overlap_Summary.csv\", index=False)\n",
    "\n",
    "summary_df"
   ]
  },
  {
   "cell_type": "code",
   "execution_count": 16,
   "id": "c293bf25-3105-4cf9-9b3f-04863cdd54b8",
   "metadata": {},
   "outputs": [
    {
     "name": "stdout",
     "output_type": "stream",
     "text": [
      "       Panel  Overlap Count\n",
      "0  ExploreHT            461\n",
      "1     Reveal            150\n",
      "2   T48panel             59\n",
      "3   T96panel            253\n"
     ]
    }
   ],
   "source": [
    "\n",
    "# Optionally, save summary as CSV\n",
    "summary_df.to_csv(output_path / \"Overlap_Summary.csv\", index=False)\n",
    "\n",
    "# Display the summary\n",
    "print(summary_df)"
   ]
  },
  {
   "cell_type": "code",
   "execution_count": null,
   "id": "d74516aa-4240-4e7c-a9eb-a12c337e999b",
   "metadata": {},
   "outputs": [],
   "source": []
  }
 ],
 "metadata": {
  "kernelspec": {
   "display_name": "Python 3 (ipykernel)",
   "language": "python",
   "name": "python3"
  },
  "language_info": {
   "codemirror_mode": {
    "name": "ipython",
    "version": 3
   },
   "file_extension": ".py",
   "mimetype": "text/x-python",
   "name": "python",
   "nbconvert_exporter": "python",
   "pygments_lexer": "ipython3",
   "version": "3.12.2"
  }
 },
 "nbformat": 4,
 "nbformat_minor": 5
}
